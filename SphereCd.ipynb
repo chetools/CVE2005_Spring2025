{
  "nbformat": 4,
  "nbformat_minor": 0,
  "metadata": {
    "colab": {
      "provenance": [],
      "authorship_tag": "ABX9TyNogbcypZeqz23NVSHPYcP5",
      "include_colab_link": true
    },
    "kernelspec": {
      "name": "python3",
      "display_name": "Python 3"
    },
    "language_info": {
      "name": "python"
    }
  },
  "cells": [
    {
      "cell_type": "markdown",
      "metadata": {
        "id": "view-in-github",
        "colab_type": "text"
      },
      "source": [
        "<a href=\"https://colab.research.google.com/github/chetools/CVE2005_Spring2025/blob/main/SphereCd.ipynb\" target=\"_parent\"><img src=\"https://colab.research.google.com/assets/colab-badge.svg\" alt=\"Open In Colab\"/></a>"
      ]
    },
    {
      "cell_type": "code",
      "source": [
        "import numpy as np\n",
        "from plotly.subplots import make_subplots\n",
        "from scipy.integrate import solve_ivp"
      ],
      "metadata": {
        "id": "gwAEA4pVET8h"
      },
      "execution_count": 1,
      "outputs": []
    },
    {
      "cell_type": "code",
      "execution_count": 2,
      "metadata": {
        "id": "S70TSN2xEStr"
      },
      "outputs": [],
      "source": [
        "def Cd(Re):\n",
        "    a=Re/5\n",
        "    b=Re/2.63e5\n",
        "    c=Re/1e6\n",
        "    return 24/Re + 2.6*a/(1+a**1.52) +0.411*b**(-25)/(1+b**(-25)) + 0.25*c/(1+c)"
      ]
    },
    {
      "cell_type": "code",
      "source": [],
      "metadata": {
        "id": "eVuhDBlOEXfm"
      },
      "execution_count": null,
      "outputs": []
    }
  ]
}