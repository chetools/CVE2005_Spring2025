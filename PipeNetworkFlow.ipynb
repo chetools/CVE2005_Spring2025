{
  "nbformat": 4,
  "nbformat_minor": 0,
  "metadata": {
    "colab": {
      "provenance": [],
      "authorship_tag": "ABX9TyPWo8GyqWswakPhVQq4MGix",
      "include_colab_link": true
    },
    "kernelspec": {
      "name": "python3",
      "display_name": "Python 3"
    },
    "language_info": {
      "name": "python"
    }
  },
  "cells": [
    {
      "cell_type": "markdown",
      "metadata": {
        "id": "view-in-github",
        "colab_type": "text"
      },
      "source": [
        "<a href=\"https://colab.research.google.com/github/chetools/CVE2005_Spring2025/blob/main/PipeNetworkFlow.ipynb\" target=\"_parent\"><img src=\"https://colab.research.google.com/assets/colab-badge.svg\" alt=\"Open In Colab\"/></a>"
      ]
    },
    {
      "cell_type": "code",
      "execution_count": 25,
      "metadata": {
        "id": "HUF237eXSWXe"
      },
      "outputs": [],
      "source": [
        "import numpy as np\n",
        "from scipy.optimize import newton, root"
      ]
    },
    {
      "cell_type": "code",
      "source": [
        "rho = 1e3\n",
        "mu = 1e-3\n",
        "g = 9.81\n",
        "\n",
        "def churchill(Re, eD):\n",
        "    t1 =(-2.457*np.log((7/Re)**0.9+0.27*eD)   )**16\n",
        "    t2 = (37530/Re)**16\n",
        "    return 8* (  (8/Re)**12 + 1/(t1+t2)**1.5  )**(1/12)"
      ],
      "metadata": {
        "id": "kDpjGKoxSaM4"
      },
      "execution_count": 2,
      "outputs": []
    },
    {
      "cell_type": "code",
      "source": [
        "#from   to  L   D   eD\n",
        "\n",
        "pipes = np.array([[0, 1, 200., 0.1, 1e-4],\n",
        "                  [1, 2, 100., 0.1, 1e-4],\n",
        "                  [1, 3, 150., 0.1, 1e-4],\n",
        "                  [1, 4, 50., 0.1, 1e-4],\n",
        "                  [2, 4, 5., 0.1, 1e-4],\n",
        "                  [2, 3, 80., 0.1, 1e-4],\n",
        "                  [3, 4, 10., 0.1, 1e-4]])\n",
        "\n",
        "node_z=np.array([30., -5., 3., 5., 0.])\n",
        "\n",
        "node_pressures = np.array([3e5, np.nan, np.nan, np.nan, 0. ])\n",
        "node_heads = node_pressures/rho/g + node_z\n",
        "from_nodes = pipes[:,0].astype(int)\n",
        "to_nodes = pipes[:,1].astype(int)\n",
        "pipe_L = pipes[:,2]\n",
        "pipe_D = pipes[:,3]\n",
        "pipe_eD = pipes[:,4]\n",
        "\n"
      ],
      "metadata": {
        "id": "G5OW03eWTw9Q"
      },
      "execution_count": 37,
      "outputs": []
    },
    {
      "cell_type": "code",
      "source": [
        "internal_idx=np.where(np.isnan(node_heads))[0]\n",
        "external_idx=np.where(np.logical_not(np.isnan(node_heads)))[0]\n",
        "node_heads[internal_idx] = np.mean(node_heads[external_idx])"
      ],
      "metadata": {
        "id": "j6Mgg7cSgqBl"
      },
      "execution_count": 38,
      "outputs": []
    },
    {
      "cell_type": "code",
      "source": [
        "def calc_hdrop(L, D, eD, Q):\n",
        "    V = np.abs(4*Q/np.pi/D**2)\n",
        "    Re = rho*V*D/mu\n",
        "    f= churchill(Re, eD)\n",
        "    return np.copysign(f*L/D * (V**2)/2/g, Q)"
      ],
      "metadata": {
        "id": "Z0sRicQ7axbC"
      },
      "execution_count": 28,
      "outputs": []
    },
    {
      "cell_type": "code",
      "source": [
        "def flow(L, D, eD, hdrop):\n",
        "\n",
        "    hdrop_abs = np.abs(hdrop)\n",
        "    if hdrop_abs<1e-15:\n",
        "        return 0.\n",
        "    Qguess= np.sqrt(2*g*D*hdrop_abs/(0.05*L)) * np.pi*(D**2)/4\n",
        "    def fun(Q):\n",
        "        return calc_hdrop(L,D, eD, Q) - hdrop_abs\n",
        "    return np.copysign(newton(fun, Qguess), hdrop)"
      ],
      "metadata": {
        "id": "FpC029oDcktL"
      },
      "execution_count": 29,
      "outputs": []
    },
    {
      "cell_type": "code",
      "source": [
        "def calc_pipeflows(node_heads):\n",
        "    pipeflows = np.zeros_like(pipe_D)\n",
        "    for i, (L, D, eD, from_node, to_node) in enumerate(zip(pipe_L,pipe_D,pipe_eD,from_nodes,to_nodes)):\n",
        "        h_from = node_heads[from_node]\n",
        "        h_to = node_heads[to_node]\n",
        "        hdrop = h_from - h_to\n",
        "        pipeflows[i]= flow(L, D, eD, hdrop)\n",
        "    return pipeflows"
      ],
      "metadata": {
        "id": "ZFp6BEMNL84n"
      },
      "execution_count": 54,
      "outputs": []
    },
    {
      "cell_type": "code",
      "source": [
        "def internal_netflows(x):\n",
        "    node_heads[internal_idx] = x\n",
        "    pipeflows = calc_pipeflows(node_heads)\n",
        "    netflows=np.zeros_like(node_z)\n",
        "    for i, pipeflow in enumerate(pipeflows):\n",
        "        np.add.at(netflows, from_nodes[i], -pipeflow)\n",
        "        np.add.at(netflows, to_nodes[i], pipeflow)\n",
        "    return netflows[internal_idx]"
      ],
      "metadata": {
        "id": "nzatB2rFJn4M"
      },
      "execution_count": 55,
      "outputs": []
    },
    {
      "cell_type": "code",
      "source": [
        "res=root(internal_netflows, np.full(internal_idx.size, np.mean(node_heads[external_idx])))\n",
        "res.x"
      ],
      "metadata": {
        "colab": {
          "base_uri": "https://localhost:8080/"
        },
        "id": "yaI2etqELIO8",
        "outputId": "dfe4da14-700b-4364-fd17-f957c46dc8af"
      },
      "execution_count": 56,
      "outputs": [
        {
          "output_type": "execute_result",
          "data": {
            "text/plain": [
              "array([3.25532828, 0.16919923, 0.18152106])"
            ]
          },
          "metadata": {},
          "execution_count": 56
        }
      ]
    },
    {
      "cell_type": "code",
      "source": [
        "node_heads[internal_idx] = res.x\n",
        "calc_pipeflows(node_heads)"
      ],
      "metadata": {
        "colab": {
          "base_uri": "https://localhost:8080/"
        },
        "id": "vsbS-W6aLQmk",
        "outputId": "e7d89975-767b-4493-b548-a49c67142b4b"
      },
      "execution_count": 57,
      "outputs": [
        {
          "output_type": "execute_result",
          "data": {
            "text/plain": [
              "array([ 0.04959415,  0.01504115,  0.01203528,  0.02251772,  0.01581248,\n",
              "       -0.00077133,  0.01126395])"
            ]
          },
          "metadata": {},
          "execution_count": 57
        }
      ]
    },
    {
      "cell_type": "code",
      "source": [
        "node_heads"
      ],
      "metadata": {
        "colab": {
          "base_uri": "https://localhost:8080/"
        },
        "id": "JXNUospNM3zF",
        "outputId": "34d2e3f8-628b-4b5f-f3fb-de74de02d830"
      },
      "execution_count": 58,
      "outputs": [
        {
          "output_type": "execute_result",
          "data": {
            "text/plain": [
              "array([60.58103976,  3.25532828,  0.16919923,  0.18152106,  0.        ])"
            ]
          },
          "metadata": {},
          "execution_count": 58
        }
      ]
    },
    {
      "cell_type": "code",
      "source": [
        "P"
      ],
      "metadata": {
        "colab": {
          "base_uri": "https://localhost:8080/"
        },
        "id": "A6eeEY6TNNvE",
        "outputId": "386b738c-b510-486b-f6c1-abdf7e5fc554"
      },
      "execution_count": 60,
      "outputs": [
        {
          "output_type": "execute_result",
          "data": {
            "text/plain": [
              "array([300000.        ,  80984.77041138, -27770.15554267, -47269.27839147,\n",
              "            0.        ])"
            ]
          },
          "metadata": {},
          "execution_count": 60
        }
      ]
    },
    {
      "cell_type": "code",
      "source": [],
      "metadata": {
        "id": "lXHCbol0NOS1"
      },
      "execution_count": null,
      "outputs": []
    }
  ]
}