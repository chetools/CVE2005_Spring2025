{
  "nbformat": 4,
  "nbformat_minor": 0,
  "metadata": {
    "colab": {
      "provenance": [],
      "authorship_tag": "ABX9TyPtuXTPg080tkEvxCfNeTJQ",
      "include_colab_link": true
    },
    "kernelspec": {
      "name": "python3",
      "display_name": "Python 3"
    },
    "language_info": {
      "name": "python"
    }
  },
  "cells": [
    {
      "cell_type": "markdown",
      "metadata": {
        "id": "view-in-github",
        "colab_type": "text"
      },
      "source": [
        "<a href=\"https://colab.research.google.com/github/chetools/CVE2005_Spring2025/blob/main/PipeNetworkFlow.ipynb\" target=\"_parent\"><img src=\"https://colab.research.google.com/assets/colab-badge.svg\" alt=\"Open In Colab\"/></a>"
      ]
    },
    {
      "cell_type": "code",
      "execution_count": 52,
      "metadata": {
        "id": "HUF237eXSWXe"
      },
      "outputs": [],
      "source": [
        "import numpy as np\n",
        "from scipy.optimize import newton"
      ]
    },
    {
      "cell_type": "code",
      "source": [
        "rho = 1e3\n",
        "mu = 1e-3\n",
        "g = 9.81\n",
        "\n",
        "def churchill(Re, eD):\n",
        "    t1 =(-2.457*np.log((7/Re)**0.9+0.27*eD)   )**16\n",
        "    t2 = (37530/Re)**16\n",
        "    return 8* (  (8/Re)**12 + 1/(t1+t2)**1.5  )**(1/12)"
      ],
      "metadata": {
        "id": "kDpjGKoxSaM4"
      },
      "execution_count": 43,
      "outputs": []
    },
    {
      "cell_type": "code",
      "source": [
        "#from   to  L   D   eD\n",
        "\n",
        "pipes = np.array([[0, 1, 200., 0.1, 1e-4],\n",
        "                  [1, 2, 100., 0.1, 1e-4],\n",
        "                  [1, 3, 150., 0.1, 1e-4],\n",
        "                  [1, 4, 50., 0.1, 1e-4],\n",
        "                  [2, 4, 5., 0.1, 1e-4],\n",
        "                  [2, 3, 80., 0.1, 1e-4],\n",
        "                  [3, 4, 10., 0.1, 1e-4]])\n",
        "\n",
        "node_z=np.array([30., -5., 3., 5., 0.])\n",
        "\n",
        "node_pressures = np.array([3e5, np.nan, np.nan, np.nan, 0. ])\n",
        "node_heads = node_pressures/rho/g + node_z\n",
        "from_nodes = pipes[:,0].astype(int)\n",
        "to_nodes = pipes[:,1].astype(int)\n",
        "pipe_L = pipes[:,2]\n",
        "pipe_D = pipes[:,3]\n",
        "pipe_eD = pipes[:,4]\n",
        "\n"
      ],
      "metadata": {
        "id": "G5OW03eWTw9Q"
      },
      "execution_count": 80,
      "outputs": []
    },
    {
      "cell_type": "code",
      "source": [
        "internal_idx=np.where(np.isnan(node_heads))[0]\n",
        "external_idx=np.where(np.logical_not(np.isnan(node_heads)))[0]\n",
        "node_heads[internal_idx] = np.mean(node_heads[external_idx])"
      ],
      "metadata": {
        "id": "j6Mgg7cSgqBl"
      },
      "execution_count": 81,
      "outputs": []
    },
    {
      "cell_type": "code",
      "source": [
        "node_heads"
      ],
      "metadata": {
        "colab": {
          "base_uri": "https://localhost:8080/"
        },
        "id": "k6pHz5KWjEjO",
        "outputId": "50dcc132-5415-49b9-c1d3-d33b21ec93c4"
      },
      "execution_count": 88,
      "outputs": [
        {
          "output_type": "execute_result",
          "data": {
            "text/plain": [
              "array([60.58103976, 30.29051988, 30.29051988, 30.29051988,  0.        ])"
            ]
          },
          "metadata": {},
          "execution_count": 88
        }
      ]
    },
    {
      "cell_type": "code",
      "source": [
        "def calc_hdrop(L, D, eD, Q):\n",
        "    V = np.abs(4*Q/np.pi/D**2)\n",
        "    Re = rho*V*D/mu\n",
        "    f= churchill(Re, eD)\n",
        "    return np.copysign(f*L/D * (V**2)/2/g, Q)"
      ],
      "metadata": {
        "id": "Z0sRicQ7axbC"
      },
      "execution_count": 51,
      "outputs": []
    },
    {
      "cell_type": "code",
      "source": [
        "def flow(L, D, eD, hdrop):\n",
        "\n",
        "    hdrop_abs = np.abs(hdrop)\n",
        "    if hdrop_abs<1e-15:\n",
        "        return 0.\n",
        "    Qguess= np.sqrt(2*g*D*hdrop_abs/(0.05*L)) * np.pi*(D**2)/4\n",
        "    def fun(Q):\n",
        "        return calc_hdrop(L,D, eD, Q) - hdrop_abs\n",
        "    return np.copysign(newton(fun, Qguess), hdrop)"
      ],
      "metadata": {
        "id": "FpC029oDcktL"
      },
      "execution_count": 89,
      "outputs": []
    },
    {
      "cell_type": "code",
      "source": [
        "node_heads"
      ],
      "metadata": {
        "colab": {
          "base_uri": "https://localhost:8080/"
        },
        "id": "ogXFIi6zgdb0",
        "outputId": "d1639da1-12d5-493a-fb7e-ef27c11c6d01"
      },
      "execution_count": 85,
      "outputs": [
        {
          "output_type": "execute_result",
          "data": {
            "text/plain": [
              "array([60.58103976, 30.29051988, 30.29051988, 30.29051988,  0.        ])"
            ]
          },
          "metadata": {},
          "execution_count": 85
        }
      ]
    },
    {
      "cell_type": "code",
      "source": [
        "for L, D, eD, from_node, to_node in zip(pipe_L,pipe_D,pipe_eD,from_nodes,to_nodes):\n",
        "    h_from = node_heads[from_node]\n",
        "    h_to = node_heads[to_node]\n",
        "    hdrop = h_from - h_to\n",
        "    Q = flow(L, D, eD, hdrop)\n",
        "    print(from_node, to_node, Q)"
      ],
      "metadata": {
        "colab": {
          "base_uri": "https://localhost:8080/"
        },
        "id": "XkbVBuwwiYOV",
        "outputId": "69562e0f-fe78-4ce3-fc39-7f3991361d44"
      },
      "execution_count": 90,
      "outputs": [
        {
          "output_type": "stream",
          "name": "stdout",
          "text": [
            "0 1 0.03537254393000675\n",
            "1 2 0.0\n",
            "1 3 0.0\n",
            "1 4 0.07346432738733859\n",
            "2 4 0.2410954109369145\n",
            "2 3 0.0\n",
            "3 4 0.16906248929092663\n"
          ]
        }
      ]
    },
    {
      "cell_type": "code",
      "source": [
        "#h2 - h1 = -f*L/D * v^2 /2"
      ],
      "metadata": {
        "id": "LsoARiaITFBn"
      },
      "execution_count": null,
      "outputs": []
    }
  ]
}