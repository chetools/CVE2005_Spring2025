{
  "nbformat": 4,
  "nbformat_minor": 0,
  "metadata": {
    "colab": {
      "provenance": [],
      "include_colab_link": true
    },
    "kernelspec": {
      "name": "python3",
      "display_name": "Python 3"
    },
    "language_info": {
      "name": "python"
    }
  },
  "cells": [
    {
      "cell_type": "markdown",
      "metadata": {
        "id": "view-in-github",
        "colab_type": "text"
      },
      "source": [
        "<a href=\"https://colab.research.google.com/github/chetools/CVE2005_Spring2025/blob/main/CVE2005_Syllabus_Spring2025.ipynb\" target=\"_parent\"><img src=\"https://colab.research.google.com/assets/colab-badge.svg\" alt=\"Open In Colab\"/></a>"
      ]
    },
    {
      "cell_type": "markdown",
      "metadata": {
        "id": "PiBxWvul6EEV"
      },
      "source": [
        "**CVE 2005 - Fluid Mechanics**\n",
        "\n",
        "Instructor: Carlos Co<br>\n",
        "email: carlos.co@uc.edu"
      ]
    },
    {
      "cell_type": "markdown",
      "metadata": {
        "id": "dQGhiM_o6477"
      },
      "source": [
        "##Prerequisites\n",
        "- PHYS2001 College Physics (C- or higher)\n",
        "- MATH2073 Ordinary Differential Equations (C- or higher)\n",
        "\n",
        "\n",
        "##Topics\n",
        "- Fluids vs Solids, Viscosity, Newtonian/Non-Newtonian, Pressure\n",
        "- Fluid Statics, Pressure-Depth Relation, Forces on Surfaces/Vessels/Piping, - Buoyancy\n",
        "- Material and Energy Balance, Velocity - Average/Distribution, Internal Energy/KE/PE, Injection Work\n",
        "- Bernoulli's Equation\n",
        "- Friction Heating, Diffusers, Low-Velocity Gas Flow, Flow Measurement\n",
        "- Fluid Friction in Steady 1D Flow\n",
        "- Reynolds Experiment, Laminar/Turbulent Flows, Pipe Flow Calculations, Flow in Piping Networks\n",
        "- Drag/External Flow\n",
        "- Dimensional Analysis\n",
        "- Momentum Balance\n",
        "- Forces in Pipes, Sudden Expansion\n",
        "- Continuity/Navier-Stokes"
      ]
    },
    {
      "cell_type": "markdown",
      "metadata": {
        "id": "AMk2GUql-iaR"
      },
      "source": [
        "##Computational Emphasis\n",
        "\n",
        "WHAT IF?  Is a question an engineer should never stop asking.  Any calculation worth doing once in a real engineering situation, is inevitably repeated over and over again for different conditions.  Coding to automate calculations is therefore one of the most valuable engineering skills.  We will use Python intensively in this class using Google's Colaboratory Jupyter Notebook environment.  It is highly recommended for you to go through the following free online texts to brush up on your Python skills BEFORE our first class:\n",
        "\n",
        "https://jakevdp.github.io/WhirlwindTourOfPython/\n",
        "\n",
        "https://jakevdp.github.io/PythonDataScienceHandbook/\n",
        "\n",
        "https://colab.research.google.com/notebooks/intro.ipynb\n",
        "\n",
        "https://plotly.com/python/plotly-fundamentals/\n",
        "\n",
        "https://numpy.org/doc/stable/user/quickstart.html"
      ]
    },
    {
      "cell_type": "markdown",
      "metadata": {
        "id": "uCG99BF0_DOB"
      },
      "source": [
        "##Grading\n",
        "\n",
        "Attendance, class participation with a webcam, responding when called upon to answer a question, and proof of laughing in class are all MANDATORY.   If you are absent for a good reason (coop interview, medical, military, etc.) send me an email (carlos.co@uc.edu).  5 or more unexcused absences will result in an unpredictable grade.\n",
        "\n",
        "In the real world, there are no 1 hour exams.  While there are deadlines, no boss will prevent you from working extra at night or weekends on a project.  Success as an engineer comes from persistent attention to detail, hard work, desire to learn, and communication skills.\n",
        "\n",
        "Grading in this course will try to reflect this reality as closely as possible.  There will be ~5 homework problems that require submission of Youtube videos where you present (without looking at notes) solution to problems and write Python code (live) to complete the calculations.<br>\n",
        "\n",
        "You will have ~1.5 weeks to complete each of these multipart videos submitted as YouTube playlists that would average between 30 to 60 minutes long.  Do note that because you are presenting on camera and not allowed to look at notes while you present and write the code, it will take MANY attempts to make a video worthy of submission.  Make your first recording attempt no later than the 3rd day after the HW is assigned.  It will be much harder than you think - do not procrastinate.\n",
        "\n",
        "If you use a pen device to explain/derive relationships and concepts, [this is an example](https://www.youtube.com/watch?v=DWne17epJ6Y&ab_channel=CharlieCo) of how your recording should be setup.  If you use regular pen/paper, do not be overly concerned with hiding the camera that is used to record the paper.  In this case, it might be preferable to use a whiteboard.\n",
        "\n",
        "When explaining/writing code, 3 simultaneous video streams are necessary.  One camera angle facing you, and another environmental camera angle from behind you that shows at least 2/3 of all monitors and the wall (if any) behind you.  [This is an example](https://www.youtube.com/watch?v=4J30jzc3DD8&ab_channel=CharlieCo)  of a possible setup.\n",
        "\n",
        "Irrespective of how exactly your videos are recorded, they should provide irrefutable evidence that the work is not merely being copied and read aloud. Make short practice takes to make sure that you have locked focus/exposure and that handwriting, face, and screen are legible.  Concerns will be resolved by an in-person presentation of the HW video.\n",
        "\n",
        "Make sure to have a confirmed YouTube account so you can upload playlists with unlimited length videos."
      ]
    },
    {
      "cell_type": "markdown",
      "source": [
        "###Accessibility\n",
        "\n",
        "UC is committed to providing all students full and equal access to learning opportunities.  [UC's Office of Accessibility Resources](https://www.uc.edu/campus-life/accessibility-resources.html) is the official campus office that works to arrange for reasonable accommodations for students with an identified physical, psychological, or cognitive disability (learning, ADD/ADHD, psychological, visual, hearing, physical, cognitive, medical condition, etc.).  Students are encouraged to contact the Accessibility Resources office to arrange for a confidential meeting to discuss services and accommodations.  Contact should be initiated as soon as possible to allow for adequate time for accommodations to be arranged.UC is also committed to providing full and equal access to our electronic and information technology, including websites, electronic files, digital course content, and software/applications.  If you experience difficulty in using any of the digital content associated with this course, even with the assistance of available [Student Accessibility Resources](https://www.uc.edu/campus-life/accessibility-resources/resources.html), please let your instructor know.Contact Information: Accessibility Resources Clifton: [AccessResources@Uc.edu](mailto:AccessResources@Uc.edu)  Information regarding the Accessibility Policy can be found in the [UC Student Resources Canvas](https://nam11.safelinks.protection.outlook.com/?url=https%3A%2F%2Fuc.instructure.com%2Fcourses%2F1456074%2Fpages%2Facademic-success%23Accessibility&data=05%7C01%7Czachmaaa%40UCMAIL.UC.EDU%7C2efb812f5f844590801308dba01306e2%7Cf5222e6c5fc648eb8f0373db18203b63%7C0%7C0%7C638279775804357097%7CUnknown%7CTWFpbGZsb3d8eyJWIjoiMC4wLjAwMDAiLCJQIjoiV2luMzIiLCJBTiI6Ik1haWwiLCJXVCI6Mn0%3D%7C3000%7C%7C%7C&sdata=ph18vBrDeQlaX4Xzr4J0SBsNx%2FEQYRe18OaI3Ck7ngM%3D&reserved=0) site.\n",
        "\n",
        "### Title IX\n",
        "Title IX is a federal civil rights law that prohibits discrimination on the basis of a person's actual or perceived sex, gender, gender identity, gender expression, or sexual orientation. Title IX also address instances of sexual violence, dating or domestic violence, and stalking. If a student discloses a Title IX issue to a faculty member, the faculty member is required to forward that information to the Title IX Office. The Title IX office will follow up with the student and discuss how the University can take steps to address the impact on the student and the community. They will also inform the student of their rights and direct them to available resources. The priority is to make sure students are safe and successful here at the University of Cincinnati. Students are not required to talk to anyone in the Title IX Office. Students may also directly report any instance of sex or gender-based discrimination, harassment or violence to the Title IX office at 513-556-3349. Students who wish to know more about their rights and resources on campus, they can consult the Title IX website or contact the Title IX office directly at 513-556-3349.\n",
        "\n",
        "###Counseling Services\n",
        "| Students have access to counseling and mental health care through the [University Health Services](https://med.uc.edu/landing-pages/university-health/home), which can provide both psychotherapy and psychiatric services. UC's [Counseling & Psychological Services](https://www.uc.edu/campus-life/caps.html) (CAPS) provides students access to professional counseling services as well as numerous options for help online, via mobile apps, group sessions, and peer-to-peer programs. CAPS conducts free virtual consultations via the \"Let's Talk\" program. CAPS also has a an \"embedded counselor\" available in CEAS, located in CEAS and just for CEAS students. Please see [CAPS embedded in CEAS](https://ceas.uc.edu/about/counseling-services.html) for scheduling information. Students are encouraged to seek assistance for anxiety, depression, trauma/assault, adjustment to college life, interpersonal/relational difficulty, sexuality, family conflict, grief and loss, disordered eating and body image, alcohol and substance abuse, anger management, identity development and issues related to diversity, concerns associated with sexual orientation and spirituality concerns, as well as any other issues of concern.\n",
        "\n",
        "### Inclusivity\n",
        "This class is committed to the fundamental principles of academic freedom and human dignity. Diversity in all forms is something we welcome, we foster, and we prize. We believe that honest attempts to understand the perspectives of others facilitates learning, and we will strive to achieve this goal at all times. We strongly disavow discrimination -- including harassment -- on the basis of race, national or ethnic origin, religion, sex or gender identity, disability, age, sexual orientation, or veteran status. We expect that each of us will hold one another accountable for maintaining these ideals.All are welcome and considered a valuable addition to the university community. You should consider my classroom as an inclusive and safe space to express your ideas and viewpoints.  **No discrimination is accepted or tolerated in this course. ** It is the goal for you to be successful and to thrive to your highest potential. [UC Notice of Non-Discrimination](https://www.uc.edu/about/non-discrimination.html#:~:text=The%20University%20of%20Cincinnati%20does,status%20(past%2C%20present%2C%20or)\n",
        "\n",
        "### Religious Accommodations\n",
        "Ohio law and the University's Student Religious Accommodations for Courses Policy 1.3.7 permits a student, upon request, to be absent for reasons of faith or religious or spiritual belief system or participate in organized activities conducted under the auspices of a religious denomination, church, or other religious or spiritual organization and/or to receive alternative accommodations with regard to examinations and other course requirements due to an absence permitted for the above-described reasons. Not later than fourteen days after the first day of instruction in the course, a student should provide the instructor with written notice of the specific dates for which the student requests alternative accommodations. For additional information about this policy, please contact the Executive Director of the Office of Equal Opportunity and Access at (513) 556-5503 or [oeohelp@UCMAIL.UC.EDU](mailto:oeohelp@UCMAIL.UC.EDU)."
      ],
      "metadata": {
        "id": "DD8umCJsS0kz"
      }
    }
  ]
}